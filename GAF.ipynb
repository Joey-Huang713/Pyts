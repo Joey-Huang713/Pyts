{
 "cells": [
  {
   "cell_type": "code",
   "execution_count": 2,
   "metadata": {
    "collapsed": true
   },
   "outputs": [
    {
     "ename": "FileNotFoundError",
     "evalue": "[WinError 3] 系統找不到指定的路徑。: 'C:\\\\Users\\\\Milk\\\\Documents\\\\Python Scripts\\\\pyts\\\\power data\\\\'",
     "output_type": "error",
     "traceback": [
      "\u001B[1;31m---------------------------------------------------------------------------\u001B[0m",
      "\u001B[1;31mFileNotFoundError\u001B[0m                         Traceback (most recent call last)",
      "\u001B[1;32m<ipython-input-2-438c68cc26fb>\u001B[0m in \u001B[0;36m<module>\u001B[1;34m\u001B[0m\n\u001B[0;32m      6\u001B[0m \u001B[0m_path\u001B[0m \u001B[1;33m=\u001B[0m \u001B[1;34m\"C:\\\\Users\\\\Milk\\\\Documents\\\\Python Scripts\\\\pyts\\\\power data\\\\\"\u001B[0m\u001B[1;33m\u001B[0m\u001B[1;33m\u001B[0m\u001B[0m\n\u001B[0;32m      7\u001B[0m \u001B[0m_imgpath\u001B[0m\u001B[1;33m=\u001B[0m\u001B[1;34m\"C:\\\\Users\\\\Milk\\\\Desktop\\\\研究所\\\\雷射計畫\\\\雷射實驗資料\\\\0529\\\\5x\\\\\"\u001B[0m\u001B[1;33m\u001B[0m\u001B[1;33m\u001B[0m\u001B[0m\n\u001B[1;32m----> 8\u001B[1;33m \u001B[0mlist_csv\u001B[0m\u001B[1;33m=\u001B[0m\u001B[0mos\u001B[0m\u001B[1;33m.\u001B[0m\u001B[0mlistdir\u001B[0m\u001B[1;33m(\u001B[0m\u001B[0m_path\u001B[0m\u001B[1;33m)\u001B[0m\u001B[1;33m\u001B[0m\u001B[1;33m\u001B[0m\u001B[0m\n\u001B[0m\u001B[0;32m      9\u001B[0m \u001B[0mlist_csv\u001B[0m\u001B[1;33m.\u001B[0m\u001B[0msort\u001B[0m\u001B[1;33m(\u001B[0m\u001B[0mkey\u001B[0m\u001B[1;33m=\u001B[0m \u001B[1;32mlambda\u001B[0m \u001B[0mx\u001B[0m \u001B[1;33m:\u001B[0m \u001B[0mtuple\u001B[0m\u001B[1;33m(\u001B[0m\u001B[0mmap\u001B[0m\u001B[1;33m(\u001B[0m\u001B[0mint\u001B[0m\u001B[1;33m,\u001B[0m\u001B[0mx\u001B[0m\u001B[1;33m[\u001B[0m\u001B[1;33m:\u001B[0m\u001B[1;33m-\u001B[0m\u001B[1;36m4\u001B[0m\u001B[1;33m]\u001B[0m\u001B[1;33m.\u001B[0m\u001B[0msplit\u001B[0m\u001B[1;33m(\u001B[0m\u001B[1;34m\"-\"\u001B[0m\u001B[1;33m)\u001B[0m\u001B[1;33m)\u001B[0m\u001B[1;33m)\u001B[0m\u001B[1;33m)\u001B[0m\u001B[1;33m\u001B[0m\u001B[1;33m\u001B[0m\u001B[0m\n\u001B[0;32m     10\u001B[0m \u001B[0mlist_img\u001B[0m\u001B[1;33m=\u001B[0m\u001B[0mos\u001B[0m\u001B[1;33m.\u001B[0m\u001B[0mlistdir\u001B[0m\u001B[1;33m(\u001B[0m\u001B[0m_imgpath\u001B[0m\u001B[1;33m)\u001B[0m\u001B[1;33m\u001B[0m\u001B[1;33m\u001B[0m\u001B[0m\n",
      "\u001B[1;31mFileNotFoundError\u001B[0m: [WinError 3] 系統找不到指定的路徑。: 'C:\\\\Users\\\\Milk\\\\Documents\\\\Python Scripts\\\\pyts\\\\power data\\\\'"
     ]
    }
   ],
   "source": [
    "from pyts.image import GramianAngularField as gaf\n",
    "import matplotlib.pyplot as plt\n",
    "import numpy as np\n",
    "import os\n",
    "import matplotlib.colors as mcolor\n",
    "_path = \"C:\\\\Users\\\\Milk\\\\Documents\\\\Python Scripts\\\\pyts\\\\power data\\\\\"\n",
    "_imgpath=\"C:\\\\Users\\\\Milk\\\\Desktop\\\\研究所\\\\雷射計畫\\\\雷射實驗資料\\\\0529\\\\5x\\\\\"\n",
    "list_csv=os.listdir(_path)\n",
    "list_csv.sort(key= lambda x : tuple(map(int,x[:-4].split(\"-\"))))\n",
    "list_img=os.listdir(_imgpath)\n",
    "list_img.sort(key= lambda x : tuple(map(int,x[:-4].split(\"-\"))))\n",
    "\n",
    "for n in list_csv:\n",
    "\n",
    "    csvpath=_path+n\n",
    "    name = n.split((\".\"))\n",
    "    x=np.loadtxt(open(csvpath,\"rb\"),delimiter=\",\",skiprows=0).T\n",
    "    X=x[0:]\n",
    "    X=X.reshape(1,-1)\n",
    "    gasf = gaf(image_size=X.shape[1],method='summation')\n",
    "    X_gasf = gasf.fit_transform(X)\n",
    "    plt.imshow(X_gasf[0],cmap=\"CMRmap\",origin=\"lower\",norm=mcolor.Normalize(-1,1))\n",
    "    plt.axis('off')\n",
    "    plt.savefig(\".\\\\t\\\\\"+name[0],   # 儲存圖檔\n",
    "            bbox_inches='tight', # 去除座標軸占用的空間\n",
    "            pad_inches=0.0)      # 去除所有白邊\n",
    "    plt.close()"
   ]
  },
  {
   "cell_type": "code",
   "execution_count": 1,
   "metadata": {
    "pycharm": {
     "name": "#%% test\n"
    }
   },
   "outputs": [
    {
     "ename": "NameError",
     "evalue": "name '_path' is not defined",
     "output_type": "error",
     "traceback": [
      "\u001B[1;31m---------------------------------------------------------------------------\u001B[0m",
      "\u001B[1;31mNameError\u001B[0m                                 Traceback (most recent call last)",
      "\u001B[1;32m<ipython-input-1-e81f39a3b7b5>\u001B[0m in \u001B[0;36m<module>\u001B[1;34m\u001B[0m\n\u001B[0;32m      4\u001B[0m \u001B[1;32mimport\u001B[0m \u001B[0mmatplotlib\u001B[0m\u001B[1;33m.\u001B[0m\u001B[0mcolors\u001B[0m \u001B[1;32mas\u001B[0m \u001B[0mmcolor\u001B[0m\u001B[1;33m\u001B[0m\u001B[1;33m\u001B[0m\u001B[0m\n\u001B[0;32m      5\u001B[0m \u001B[1;33m\u001B[0m\u001B[0m\n\u001B[1;32m----> 6\u001B[1;33m \u001B[0mx\u001B[0m\u001B[1;33m=\u001B[0m\u001B[0mnp\u001B[0m\u001B[1;33m.\u001B[0m\u001B[0mloadtxt\u001B[0m\u001B[1;33m(\u001B[0m\u001B[0mopen\u001B[0m\u001B[1;33m(\u001B[0m\u001B[0m_path\u001B[0m\u001B[1;33m+\u001B[0m\u001B[0mlist_csv\u001B[0m\u001B[1;33m[\u001B[0m\u001B[1;36m2\u001B[0m\u001B[1;33m]\u001B[0m\u001B[1;33m,\u001B[0m\u001B[1;34m\"rb\"\u001B[0m\u001B[1;33m)\u001B[0m\u001B[1;33m,\u001B[0m\u001B[0mdelimiter\u001B[0m\u001B[1;33m=\u001B[0m\u001B[1;34m\",\"\u001B[0m\u001B[1;33m,\u001B[0m\u001B[0mskiprows\u001B[0m\u001B[1;33m=\u001B[0m\u001B[1;36m0\u001B[0m\u001B[1;33m)\u001B[0m\u001B[1;33m.\u001B[0m\u001B[0mT\u001B[0m\u001B[1;33m\u001B[0m\u001B[1;33m\u001B[0m\u001B[0m\n\u001B[0m\u001B[0;32m      7\u001B[0m \u001B[1;33m\u001B[0m\u001B[0m\n\u001B[0;32m      8\u001B[0m \u001B[0mX\u001B[0m\u001B[1;33m=\u001B[0m\u001B[0mx\u001B[0m\u001B[1;33m[\u001B[0m\u001B[1;36m0\u001B[0m\u001B[1;33m:\u001B[0m\u001B[1;33m]\u001B[0m\u001B[1;33m\u001B[0m\u001B[1;33m\u001B[0m\u001B[0m\n",
      "\u001B[1;31mNameError\u001B[0m: name '_path' is not defined"
     ]
    }
   ],
   "source": [
    "#ctrl+Q show documentation\n",
    "\n",
    "import numpy as np\n",
    "import matplotlib.colors as mcolor\n",
    "\n",
    "x=np.loadtxt(open(_path+list_csv[2],\"rb\"),delimiter=\",\",skiprows=0).T\n",
    "\n",
    "X=x[0:]\n",
    "X=X.reshape(1,-1)\n",
    "gasf = gaf(image_size=X.shape[1],method='summation')\n",
    "X_gasf = gasf.fit_transform(X)\n",
    "print(X_gasf[0].shape)\n",
    "#plt.figure(figsize=(8,8))\n",
    "plt.subplot(121)\n",
    "plt.imshow(X_gasf[0],cmap=\"CMRmap\",origin=\"lower\",norm=mcolor.Normalize(-1,1))\n",
    "plt.subplot(122)\n",
    "plt.imshow(X_gasf[0],cmap=\"CMRmap\",origin=\"lower\")\n",
    "plt.axis('off')\n",
    "name = list_csv[0].split('.')\n",
    "'''\n",
    "plt.savefig(\".\\\\t\\\\\"+name[0],   # 儲存圖檔\n",
    "            bbox_inches='tight', # 去除座標軸占用的空間\n",
    "            pad_inches=0.0)    # 去除所有白邊\n",
    "'''\n",
    "plt.show()\n",
    "plt.close()"
   ]
  },
  {
   "cell_type": "code",
   "execution_count": 108,
   "metadata": {
    "pycharm": {
     "name": "#%%\n"
    }
   },
   "outputs": [
    {
     "name": "stdout",
     "output_type": "stream",
     "text": [
      "['1-1.csv', '1-2.csv', '1-3.csv', '1-4.csv', '1-5.csv', '1-6.csv', '1-7.csv', '1-8.csv', '1-9.csv', '1-10.csv', '2-1.csv', '2-2.csv', '2-3.csv', '2-4.csv', '2-5.csv', '2-6.csv', '2-7.csv', '2-8.csv', '2-9.csv', '2-10.csv', '3-1.csv', '3-2.csv', '3-3.csv', '3-4.csv', '3-5.csv', '3-6.csv', '3-7.csv', '3-8.csv', '3-9.csv', '3-10.csv', '4-1.csv', '4-2.csv', '4-3.csv', '4-4.csv', '4-5.csv', '4-6.csv', '4-7.csv', '4-8.csv', '4-9.csv', '4-10.csv', '5-1.csv', '5-2.csv', '5-3.csv', '5-4.csv', '5-5.csv', '5-6.csv', '5-7.csv', '5-8.csv', '5-9.csv', '5-10.csv', '6-1.csv', '6-2.csv', '6-3.csv', '6-4.csv', '6-5.csv', '6-6.csv', '6-7.csv', '6-8.csv', '6-9.csv', '6-10.csv', '7-1.csv', '7-2.csv', '7-3.csv', '7-4.csv', '7-5.csv', '7-6.csv', '7-7.csv', '7-8.csv', '7-9.csv', '7-10.csv', '8-1.csv', '8-2.csv', '8-3.csv', '8-4.csv', '8-5.csv', '8-6.csv', '8-7.csv', '8-8.csv', '8-9.csv', '8-10.csv', '9-1.csv', '9-2.csv', '12-1.csv', '12-2.csv', '12-3.csv', '12-4.csv', '12-5.csv', '12-6.csv', '12-7.csv', '12-8.csv', '12-9.csv', '12-10.csv', '13-1.csv', '13-2.csv', '13-3.csv', '13-4.csv', '13-5.csv', '13-6.csv', '13-7.csv', '13-8.csv', '13-9.csv', '13-10.csv', '14-1.csv', '14-2.csv', '14-3.csv', '14-4.csv', '14-5.csv', '14-6.csv', '14-7.csv', '14-8.csv', '14-9.csv', '14-10.csv', '15-1.csv', '15-2.csv', '15-3.csv', '15-4.csv', '15-5.csv', '15-6.csv', '15-7.csv', '15-8.csv', '15-9.csv', '15-10.csv', '16-1.csv', '16-2.csv', '16-3.csv', '16-4.csv', '16-5.csv', '16-6.csv', '16-7.csv', '16-8.csv', '16-9.csv', '16-10.csv', '17-1.csv', '17-2.csv', '17-3.csv', '17-4.csv', '17-5.csv', '17-6.csv', '17-7.csv', '17-8.csv', '17-9.csv', '17-10.csv', '18-1.csv', '18-2.csv', '18-3.csv', '18-4.csv', '18-5.csv', '18-6.csv', '18-7.csv', '18-8.csv', '18-9.csv', '18-10.csv', '19-1.csv', '19-2.csv', '19-3.csv', '19-4.csv', '19-5.csv', '19-6.csv', '19-7.csv', '19-8.csv', '19-9.csv', '19-10.csv', '20-1.csv', '20-2.csv', '20-3.csv', '20-4.csv', '20-5.csv', '20-6.csv', '20-7.csv', '20-8.csv', '20-9.csv', '20-10.csv', '21-1.csv', '21-2.csv', '21-3.csv', '21-4.csv', '21-5.csv', '21-6.csv', '21-7.csv', '21-8.csv', '21-9.csv', '21-10.csv', '22-1.csv', '22-2.csv', '22-3.csv', '22-4.csv', '22-5.csv', '22-6.csv', '22-7.csv', '22-8.csv', '22-9.csv', '22-10.csv', '23-1.csv', '23-2.csv', '23-3.csv', '23-4.csv', '23-5.csv', '23-6.csv', '23-7.csv', '23-8.csv', '23-9.csv', '23-10.csv', '24-1.csv', '24-2.csv', '24-3.csv', '24-4.csv', '24-5.csv', '24-6.csv', '24-7.csv', '24-8.csv', '24-9.csv', '24-10.csv', '25-1.csv', '25-2.csv', '25-3.csv', '25-4.csv', '25-5.csv', '25-6.csv', '25-7.csv', '25-8.csv', '25-9.csv', '25-10.csv']\n"
     ]
    }
   ],
   "source": [
    "list_csv.sort(key=lambda x:tuple(map(int,(x[:-4].split(\"-\")))))\n",
    "print(list_csv)"
   ]
  }
 ],
 "metadata": {
  "kernelspec": {
   "display_name": "Python 3",
   "language": "python",
   "name": "python3"
  },
  "language_info": {
   "codemirror_mode": {
    "name": "ipython",
    "version": 3
   },
   "file_extension": ".py",
   "mimetype": "text/x-python",
   "name": "python",
   "nbconvert_exporter": "python",
   "pygments_lexer": "ipython3",
   "version": "3.7.4"
  }
 },
 "nbformat": 4,
 "nbformat_minor": 1
}